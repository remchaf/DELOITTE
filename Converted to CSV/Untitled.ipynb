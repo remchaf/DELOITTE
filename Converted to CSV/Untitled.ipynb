{
 "cells": [
  {
   "cell_type": "code",
   "execution_count": 22,
   "id": "7142d983",
   "metadata": {},
   "outputs": [],
   "source": [
    " import pandas as pd"
   ]
  },
  {
   "cell_type": "code",
   "execution_count": 35,
   "id": "af81783d",
   "metadata": {},
   "outputs": [],
   "source": [
    "df = pd.read_csv(\"converted_JF_frame.csv\")"
   ]
  },
  {
   "cell_type": "code",
   "execution_count": 36,
   "id": "1e642405",
   "metadata": {
    "scrolled": true
   },
   "outputs": [
    {
     "data": {
      "text/html": [
       "<div>\n",
       "<style scoped>\n",
       "    .dataframe tbody tr th:only-of-type {\n",
       "        vertical-align: middle;\n",
       "    }\n",
       "\n",
       "    .dataframe tbody tr th {\n",
       "        vertical-align: top;\n",
       "    }\n",
       "\n",
       "    .dataframe thead th {\n",
       "        text-align: right;\n",
       "    }\n",
       "</style>\n",
       "<table border=\"1\" class=\"dataframe\">\n",
       "  <thead>\n",
       "    <tr style=\"text-align: right;\">\n",
       "      <th></th>\n",
       "      <th>Client</th>\n",
       "      <th>Description</th>\n",
       "      <th>Date</th>\n",
       "      <th>Numero-de-classement</th>\n",
       "    </tr>\n",
       "  </thead>\n",
       "  <tbody>\n",
       "    <tr>\n",
       "      <th>460</th>\n",
       "      <td>DEJA ENREGISTRE</td>\n",
       "      <td>ASSISTANCE JURIDIQUE ET FISCALE</td>\n",
       "      <td>1993-2003</td>\n",
       "      <td>4527</td>\n",
       "    </tr>\n",
       "    <tr>\n",
       "      <th>461</th>\n",
       "      <td>DEJA ENREGISTRE</td>\n",
       "      <td>ASSISTANCE JURIDIQUE ET FISCALE</td>\n",
       "      <td>2008-2012</td>\n",
       "      <td>871</td>\n",
       "    </tr>\n",
       "    <tr>\n",
       "      <th>462</th>\n",
       "      <td>DEJA ENREGISTRE</td>\n",
       "      <td>ASSISTANCE JURIDIQUE ET FISCALE</td>\n",
       "      <td>2008-2012</td>\n",
       "      <td>872</td>\n",
       "    </tr>\n",
       "    <tr>\n",
       "      <th>463</th>\n",
       "      <td>DEJA ENREGISTRE</td>\n",
       "      <td>ASSISTANCE JURIDIQUE ET FISCALE</td>\n",
       "      <td>2008-2012</td>\n",
       "      <td>873</td>\n",
       "    </tr>\n",
       "    <tr>\n",
       "      <th>464</th>\n",
       "      <td>DEJA ENREGISTRE</td>\n",
       "      <td>ASSISTANCE JURIDIQUE ET FISCALE</td>\n",
       "      <td>2008-2012</td>\n",
       "      <td>874</td>\n",
       "    </tr>\n",
       "  </tbody>\n",
       "</table>\n",
       "</div>"
      ],
      "text/plain": [
       "              Client                      Description       Date  \\\n",
       "460  DEJA ENREGISTRE  ASSISTANCE JURIDIQUE ET FISCALE  1993-2003   \n",
       "461  DEJA ENREGISTRE  ASSISTANCE JURIDIQUE ET FISCALE  2008-2012   \n",
       "462  DEJA ENREGISTRE  ASSISTANCE JURIDIQUE ET FISCALE  2008-2012   \n",
       "463  DEJA ENREGISTRE  ASSISTANCE JURIDIQUE ET FISCALE  2008-2012   \n",
       "464  DEJA ENREGISTRE  ASSISTANCE JURIDIQUE ET FISCALE  2008-2012   \n",
       "\n",
       "     Numero-de-classement  \n",
       "460                  4527  \n",
       "461                   871  \n",
       "462                   872  \n",
       "463                   873  \n",
       "464                   874  "
      ]
     },
     "execution_count": 36,
     "metadata": {},
     "output_type": "execute_result"
    }
   ],
   "source": [
    "df.tail()"
   ]
  },
  {
   "cell_type": "code",
   "execution_count": 37,
   "id": "9e58c3c5",
   "metadata": {},
   "outputs": [],
   "source": [
    "import numpy as np"
   ]
  },
  {
   "cell_type": "code",
   "execution_count": 38,
   "id": "33b4164f",
   "metadata": {},
   "outputs": [],
   "source": [
    "df[\"Numero-de-classement\"] = df[\"Numero-de-classement\"].apply(lambda n: np.int64(n))"
   ]
  },
  {
   "cell_type": "code",
   "execution_count": 39,
   "id": "de7c7c18",
   "metadata": {},
   "outputs": [],
   "source": [
    "df.Description = df.Description.str.replace(\"JF \", \"ASSISTANCE JURIDIQUE ET FISCALE - \")"
   ]
  },
  {
   "cell_type": "code",
   "execution_count": 40,
   "id": "0d114d32",
   "metadata": {},
   "outputs": [
    {
     "data": {
      "text/plain": [
       "0                        ASSISTANCE JURIDIQUE ET FISCALE\n",
       "1                        ASSISTANCE JURIDIQUE ET FISCALE\n",
       "2      ASSISTANCE JURIDIQUE ET FISCALE - REGISTRE DES...\n",
       "3                        ASSISTANCE JURIDIQUE ET FISCALE\n",
       "4                        ASSISTANCE JURIDIQUE ET FISCALE\n",
       "                             ...                        \n",
       "460                      ASSISTANCE JURIDIQUE ET FISCALE\n",
       "461                      ASSISTANCE JURIDIQUE ET FISCALE\n",
       "462                      ASSISTANCE JURIDIQUE ET FISCALE\n",
       "463                      ASSISTANCE JURIDIQUE ET FISCALE\n",
       "464                      ASSISTANCE JURIDIQUE ET FISCALE\n",
       "Name: Description, Length: 465, dtype: object"
      ]
     },
     "execution_count": 40,
     "metadata": {},
     "output_type": "execute_result"
    }
   ],
   "source": [
    "df.Description"
   ]
  },
  {
   "cell_type": "code",
   "execution_count": 41,
   "id": "3d07ddb4",
   "metadata": {},
   "outputs": [],
   "source": [
    "df.to_excel(\"ALFRED-JF-23NOV.xlsx\")"
   ]
  }
 ],
 "metadata": {
  "kernelspec": {
   "display_name": "Python 3 (ipykernel)",
   "language": "python",
   "name": "python3"
  },
  "language_info": {
   "codemirror_mode": {
    "name": "ipython",
    "version": 3
   },
   "file_extension": ".py",
   "mimetype": "text/x-python",
   "name": "python",
   "nbconvert_exporter": "python",
   "pygments_lexer": "ipython3",
   "version": "3.9.12"
  }
 },
 "nbformat": 4,
 "nbformat_minor": 5
}
